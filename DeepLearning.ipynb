{
 "cells": [
  {
   "cell_type": "code",
   "execution_count": null,
   "id": "6899fe85-cdfd-4c17-8be3-023cc53f212c",
   "metadata": {},
   "outputs": [],
   "source": [
    "!which python"
   ]
  },
  {
   "cell_type": "code",
   "execution_count": null,
   "id": "45d3ff1f-9b8a-455d-9cda-497fcd0600cc",
   "metadata": {},
   "outputs": [],
   "source": [
    "!pip install tensorflow"
   ]
  },
  {
   "cell_type": "code",
   "execution_count": 10,
   "id": "b9e93c12-8775-4350-9400-3dd0b1ca1581",
   "metadata": {},
   "outputs": [
    {
     "name": "stdout",
     "output_type": "stream",
     "text": [
      "2.20.0\n"
     ]
    }
   ],
   "source": [
    "import tensorflow as tf\n",
    "print(tf.__version__)\n"
   ]
  },
  {
   "cell_type": "code",
   "execution_count": null,
   "id": "9d022cdd-12bb-4fc9-b44d-3535f6824c94",
   "metadata": {},
   "outputs": [],
   "source": [
    "python --version\n",
    "pip --version\n"
   ]
  },
  {
   "cell_type": "code",
   "execution_count": 11,
   "id": "823e7c0f-4539-47f2-a519-743d59ad68e2",
   "metadata": {},
   "outputs": [
    {
     "ename": "SyntaxError",
     "evalue": "invalid syntax (3277417328.py, line 1)",
     "output_type": "error",
     "traceback": [
      "\u001b[1;36m  Cell \u001b[1;32mIn[11], line 1\u001b[1;36m\u001b[0m\n\u001b[1;33m    git init\u001b[0m\n\u001b[1;37m        ^\u001b[0m\n\u001b[1;31mSyntaxError\u001b[0m\u001b[1;31m:\u001b[0m invalid syntax\n"
     ]
    }
   ],
   "source": [
    "git init\n"
   ]
  },
  {
   "cell_type": "code",
   "execution_count": null,
   "id": "d62a2328-7e29-49c2-baa3-15525737f86b",
   "metadata": {},
   "outputs": [],
   "source": [
    "git remote add origin https://github.com/Muzamil-Fatima/Deep-Learning.git\n"
   ]
  },
  {
   "cell_type": "code",
   "execution_count": null,
   "id": "58e624bb-cce7-4d1f-a1b1-677f4633a2c8",
   "metadata": {},
   "outputs": [],
   "source": [
    "git commit -m \"first commit\"\n"
   ]
  },
  {
   "cell_type": "code",
   "execution_count": null,
   "id": "14237755-d258-4585-acf1-2b0dcd4a8415",
   "metadata": {},
   "outputs": [],
   "source": [
    "git push -u origin main\n"
   ]
  },
  {
   "cell_type": "code",
   "execution_count": null,
   "id": "3f65b162-852f-4b62-8c5b-ad19e706d280",
   "metadata": {},
   "outputs": [],
   "source": []
  }
 ],
 "metadata": {
  "kernelspec": {
   "display_name": "Python 3 (ipykernel)",
   "language": "python",
   "name": "python3"
  },
  "language_info": {
   "codemirror_mode": {
    "name": "ipython",
    "version": 3
   },
   "file_extension": ".py",
   "mimetype": "text/x-python",
   "name": "python",
   "nbconvert_exporter": "python",
   "pygments_lexer": "ipython3",
   "version": "3.12.7"
  }
 },
 "nbformat": 4,
 "nbformat_minor": 5
}
